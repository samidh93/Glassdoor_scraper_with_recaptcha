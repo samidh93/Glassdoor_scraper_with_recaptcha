{
 "metadata": {
  "language_info": {
   "codemirror_mode": {
    "name": "ipython",
    "version": 3
   },
   "file_extension": ".py",
   "mimetype": "text/x-python",
   "name": "python",
   "nbconvert_exporter": "python",
   "pygments_lexer": "ipython3",
   "version": "3.9.2-final"
  },
  "orig_nbformat": 2,
  "kernelspec": {
   "name": "python3",
   "display_name": "Python 3.9.2 64-bit",
   "metadata": {
    "interpreter": {
     "hash": "63fd5069d213b44bf678585dea6b12cceca9941eaf7f819626cde1f2670de90d"
    }
   }
  }
 },
 "nbformat": 4,
 "nbformat_minor": 2,
 "cells": [
  {
   "cell_type": "code",
   "execution_count": 17,
   "metadata": {},
   "outputs": [],
   "source": [
    "# notebook to test scraping with selenium on glassdoor\n",
    "from selenium import webdriver\n",
    "from selenium.webdriver.common.by import By\n",
    "from selenium.webdriver.support.ui import WebDriverWait\n",
    "from selenium.webdriver.support import expected_conditions as EC\n",
    "from selenium.common.exceptions import *\n",
    "from selenium.webdriver.common.keys import Keys\n",
    "from selenium.webdriver.common.action_chains import ActionChains\n",
    "# to find links\n",
    "from bs4 import BeautifulSoup\n",
    "import json\n",
    "import requests\n",
    "import urllib.request\n",
    "import re\n",
    "import time # to sleep\n",
    "# to output a dataframe to file \n",
    "import pandas as pd\n",
    "# fill this in with your job preferences!\n",
    "# glassdoor search bar \n",
    "PREFERENCES = {\n",
    "    \"position_title\": \"Entwicklungsingenieur\",\n",
    "    \"location\": \"Berlin, Deutschland\"\n",
    "}\n",
    "# glassdoor login credentiels\n",
    "from secret import glassdoor_credentials as s\n",
    "LOGIN = {\n",
    "    \"username\": s['email'],  # to be changed with the email\n",
    "    \"password\": s['password'] # to be changed with the password\n",
    "}\n",
    "JOB_APP = {\n",
    "    \"first_name\": \"Sami\",\n",
    "    \"last_name\": \"Dhiab\",\n",
    "    \"fullname\": \"Sami Dhiab\",\n",
    "    \"email\": s['email'],\n",
    "    \"phone\": \"+4917666994604\",\n",
    "    \"title\": \"M.Eng.Robotics\",\n",
    "    \"company\": \"DLR\",\n",
    "    \"resume\": \"C:/Users/Sami/Downloads/Resume-Sami-Dhiab.pdf\", # change path to resume, for windows C:\\\\ should be present\n",
    "    \"linkedin\": \"https://www.linkedin.com/\",\n",
    "    \"website\": \"www.youtube.com\",\n",
    "    \"github\": \"https://github.com\", \n",
    "    \"twitter\": \"www.twitter.com\",\n",
    "    \"city\": \"Berlin\",\n",
    "    \"country\": \"Deutschland\",\n",
    "    \"grad_month\": '05',\n",
    "    \"grad_year\": '2021',\n",
    "    \"university\": \"Beuth\" \n",
    "}"
   ]
  },
  {
   "cell_type": "code",
   "execution_count": 18,
   "metadata": {},
   "outputs": [],
   "source": [
    "# default selenium configuartions\n",
    "options = webdriver.ChromeOptions()\n",
    "options.add_argument(\"start-maximized\")\n",
    "options.add_argument(\"--disable-extensions\")\n",
    "options.add_experimental_option(\"excludeSwitches\", [\"enable-automation\"])\n",
    "options.add_experimental_option('useAutomationExtension', False)\n",
    "options.add_argument(\"--disable-blink-features\")\n",
    "options.add_argument(\"--disable-blink-features=AutomationControlled\")\n",
    "#options.add_argument(\"--headless\") # if headless mode\n",
    "options.add_argument(\"user-data-dir=selenium\") # to store cookies between sessions\n",
    "driver = webdriver.Chrome(options=options, executable_path='C:/Users/Sami/chromedriver.exe') # change path to chromedriver.exe\n"
   ]
  },
  {
   "cell_type": "code",
   "execution_count": 19,
   "metadata": {},
   "outputs": [
    {
     "output_type": "stream",
     "name": "stdout",
     "text": [
      "you are already logged in\n"
     ]
    }
   ],
   "source": [
    "# browse the page and retrieve search resultst\n",
    "driver.get('https://www.glassdoor.de/profile/login_input.htm?userOriginHook=HEADER_SIGNIN_LINK')\n",
    "# fill out username and password \n",
    "try:    # if first time login\n",
    "    driver.find_element_by_xpath(\"//*[@id='userEmail']\").send_keys(LOGIN['username']) \n",
    "    driver.find_element_by_xpath(\"//*[@id='userPassword']\").send_keys(LOGIN['password'])\n",
    "# accept cookies and click login\n",
    "    driver.find_element_by_xpath('//button[text()=\"Cookies akzeptieren\"]').click()\n",
    "    driver.find_element_by_xpath('//button[text()=\"Anmelden\"]').click()\n",
    "# keep waiting for user to log-in until the URL changes to user page\n",
    "    while True:\n",
    "        try:\n",
    "            WebDriverWait(driver, 5).until(EC.url_contains(\"member\"))\n",
    "        except TimeoutException:\n",
    "            break\n",
    "except:\n",
    "    print('you are already logged in')\n",
    "    pass\n",
    "# wait for the search bar to appear\n",
    "try:\n",
    "    # look for search bar fields and send elemnets\n",
    "    #WebDriverWait(driver, 5).until(EC.presence_of_element_located((By.XPATH, \"//*[@id='scBar']\")))\n",
    "    keyword=driver.find_element_by_xpath(\"//*[@id='sc.keyword']\")\n",
    "    keyword.send_keys(Keys.CONTROL + \"a\")\n",
    "    keyword.send_keys(Keys.DELETE)\n",
    "    keyword.send_keys(PREFERENCES['position_title']) # type in search bar\n",
    "    location=driver.find_element_by_xpath(\"//*[@id='sc.location']\")\n",
    "    location.send_keys(Keys.CONTROL + \"a\")\n",
    "    location.send_keys(Keys.DELETE)\n",
    "    location.send_keys(PREFERENCES['location']) # type in location bar\n",
    "    driver.find_element_by_xpath(\" //*[@id='scBar']/div/button\").click() # click search\n",
    "\n",
    "except NoSuchElementException:\n",
    "    print('check unfoudn elements')\n",
    "# filter jobs by quick apply jobs\n",
    "try:\n",
    "    WebDriverWait(driver, 5).until(EC.presence_of_element_located((By.XPATH, '//*[@id=\"DKFilters\"]')))\n",
    "    driver.find_element_by_xpath('//*[@id=\"DKFilters\"]/div/div[1]/div[2]/div[1]/span[1]').click()\n",
    "    driver.find_element_by_xpath('//*[@id=\"DKFilters\"]/div/div[1]/div[2]/div[2]/div[10]/label').click()\n",
    "    driver.find_element_by_xpath('//*[@id=\"DKFilters\"]/div/div[1]/div[2]/div[1]/span[1]').click()\n",
    "except ElementClickInterceptedException:\n",
    "    pass"
   ]
  },
  {
   "cell_type": "code",
   "execution_count": 20,
   "metadata": {},
   "outputs": [
    {
     "output_type": "stream",
     "name": "stdout",
     "text": [
      "number of job found 14\n"
     ]
    }
   ],
   "source": [
    "# collect all links from current page using bs\n",
    "time.sleep(1)\n",
    "url = driver.current_url\n",
    "hdr = {'User-Agent': 'Mozilla/5.0'}\n",
    "req = urllib.request.Request(url, headers=hdr)\n",
    "infile = urllib.request.urlopen(req).read()\n",
    "response = infile.decode('ISO-8859-1')\n",
    "soup = BeautifulSoup(response)\n",
    "# find all hrefs\n",
    "allJobLinks = soup.findAll(\"a\", {\"class\": \"jobLink\"})\n",
    "allLinks = list(set([jobLink['href'] for jobLink in allJobLinks]))\n",
    "#print(allLinks[0])\n",
    "#print(type(allLinks[0]))\n",
    "print(\"number of job found\", len(allLinks))"
   ]
  },
  {
   "cell_type": "code",
   "execution_count": 21,
   "metadata": {},
   "outputs": [
    {
     "output_type": "stream",
     "name": "stdout",
     "text": [
      "applying for the current jobpage:  https://www.glassdoor.de/partner/jobListing.htm?pos=103&ao=1136006&s=58&guid=000001785cdd3d6b8f15b95d9ed2621c&src=GD_JOB_AD&t=SR&vt=w&ea=1&cs=1_66eb5fd1&cb=1616465706730&jobListingId=4037453203\n",
      "\n",
      "applying for the current jobpage:  https://www.glassdoor.de/partner/jobListing.htm?pos=107&ao=1136006&s=58&guid=000001785cdd3d6b8f15b95d9ed2621c&src=GD_JOB_AD&t=SR&vt=w&ea=1&cs=1_a3acb6a2&cb=1616465706731&jobListingId=4006115705\n",
      "\n",
      "applying for the current jobpage:  https://www.glassdoor.de/partner/jobListing.htm?pos=114&ao=1136006&s=58&guid=000001785cdd3d6b8f15b95d9ed2621c&src=GD_JOB_AD&t=SR&vt=w&ea=1&cs=1_37a88eeb&cb=1616465706733&jobListingId=4015654512\n",
      "\n",
      "applying for the current jobpage:  https://www.glassdoor.de/partner/jobListing.htm?pos=111&ao=1136006&s=58&guid=000001785cdd3d6b8f15b95d9ed2621c&src=GD_JOB_AD&t=SR&vt=w&ea=1&cs=1_aa5d48bf&cb=1616465706732&jobListingId=3797106886\n",
      "\n",
      "applying for the current jobpage:  https://www.glassdoor.de/partner/jobListing.htm?pos=104&ao=1136006&s=58&guid=000001785cdd3d6b8f15b95d9ed2621c&src=GD_JOB_AD&t=SR&vt=w&ea=1&cs=1_85acdb9c&cb=1616465706731&jobListingId=3797109513\n",
      "\n",
      "applying for the current jobpage:  https://www.glassdoor.de/partner/jobListing.htm?pos=110&ao=1136006&s=58&guid=000001785cdd3d6b8f15b95d9ed2621c&src=GD_JOB_AD&t=SR&vt=w&ea=1&cs=1_188e81ea&cb=1616465706732&jobListingId=4021342802\n",
      "\n",
      "applying for the current jobpage:  https://www.glassdoor.de/partner/jobListing.htm?pos=108&ao=1136006&s=58&guid=000001785cdd3d6b8f15b95d9ed2621c&src=GD_JOB_AD&t=SR&vt=w&ea=1&cs=1_20ee5b43&cb=1616465706731&jobListingId=4023154778\n",
      "\n"
     ]
    },
    {
     "output_type": "error",
     "ename": "NoSuchElementException",
     "evalue": "Message: no such element: Unable to locate element: {\"method\":\"css selector\",\"selector\":\"[name=\"applicant.fileUpload\"]\"}\n  (Session info: chrome=89.0.4389.90)\n",
     "traceback": [
      "\u001b[1;31m---------------------------------------------------------------------------\u001b[0m",
      "\u001b[1;31mNoSuchElementException\u001b[0m                    Traceback (most recent call last)",
      "\u001b[1;32m<ipython-input-21-f9b6fe3ec36c>\u001b[0m in \u001b[0;36m<module>\u001b[1;34m\u001b[0m\n\u001b[0;32m     30\u001b[0m             \u001b[1;32mpass\u001b[0m\u001b[1;33m\u001b[0m\u001b[1;33m\u001b[0m\u001b[0m\n\u001b[0;32m     31\u001b[0m         \u001b[1;32mfinally\u001b[0m\u001b[1;33m:\u001b[0m\u001b[1;33m\u001b[0m\u001b[1;33m\u001b[0m\u001b[0m\n\u001b[1;32m---> 32\u001b[1;33m             \u001b[0mdriver\u001b[0m\u001b[1;33m.\u001b[0m\u001b[0mfind_element_by_name\u001b[0m\u001b[1;33m(\u001b[0m\u001b[1;34m'applicant.fileUpload'\u001b[0m\u001b[1;33m)\u001b[0m\u001b[1;33m.\u001b[0m\u001b[0msend_keys\u001b[0m\u001b[1;33m(\u001b[0m\u001b[0mJOB_APP\u001b[0m\u001b[1;33m[\u001b[0m\u001b[1;34m'resume'\u001b[0m\u001b[1;33m]\u001b[0m\u001b[1;33m)\u001b[0m\u001b[1;33m\u001b[0m\u001b[1;33m\u001b[0m\u001b[0m\n\u001b[0m\u001b[0;32m     33\u001b[0m \u001b[1;33m\u001b[0m\u001b[0m\n\u001b[0;32m     34\u001b[0m \u001b[1;32mexcept\u001b[0m \u001b[0mElementNotVisibleException\u001b[0m\u001b[1;33m:\u001b[0m\u001b[1;33m\u001b[0m\u001b[1;33m\u001b[0m\u001b[0m\n",
      "\u001b[1;32m~\\AppData\\Roaming\\Python\\Python39\\site-packages\\selenium\\webdriver\\remote\\webdriver.py\u001b[0m in \u001b[0;36mfind_element_by_name\u001b[1;34m(self, name)\u001b[0m\n\u001b[0;32m    494\u001b[0m             \u001b[0melement\u001b[0m \u001b[1;33m=\u001b[0m \u001b[0mdriver\u001b[0m\u001b[1;33m.\u001b[0m\u001b[0mfind_element_by_name\u001b[0m\u001b[1;33m(\u001b[0m\u001b[1;34m'foo'\u001b[0m\u001b[1;33m)\u001b[0m\u001b[1;33m\u001b[0m\u001b[1;33m\u001b[0m\u001b[0m\n\u001b[0;32m    495\u001b[0m         \"\"\"\n\u001b[1;32m--> 496\u001b[1;33m         \u001b[1;32mreturn\u001b[0m \u001b[0mself\u001b[0m\u001b[1;33m.\u001b[0m\u001b[0mfind_element\u001b[0m\u001b[1;33m(\u001b[0m\u001b[0mby\u001b[0m\u001b[1;33m=\u001b[0m\u001b[0mBy\u001b[0m\u001b[1;33m.\u001b[0m\u001b[0mNAME\u001b[0m\u001b[1;33m,\u001b[0m \u001b[0mvalue\u001b[0m\u001b[1;33m=\u001b[0m\u001b[0mname\u001b[0m\u001b[1;33m)\u001b[0m\u001b[1;33m\u001b[0m\u001b[1;33m\u001b[0m\u001b[0m\n\u001b[0m\u001b[0;32m    497\u001b[0m \u001b[1;33m\u001b[0m\u001b[0m\n\u001b[0;32m    498\u001b[0m     \u001b[1;32mdef\u001b[0m \u001b[0mfind_elements_by_name\u001b[0m\u001b[1;33m(\u001b[0m\u001b[0mself\u001b[0m\u001b[1;33m,\u001b[0m \u001b[0mname\u001b[0m\u001b[1;33m)\u001b[0m\u001b[1;33m:\u001b[0m\u001b[1;33m\u001b[0m\u001b[1;33m\u001b[0m\u001b[0m\n",
      "\u001b[1;32m~\\AppData\\Roaming\\Python\\Python39\\site-packages\\selenium\\webdriver\\remote\\webdriver.py\u001b[0m in \u001b[0;36mfind_element\u001b[1;34m(self, by, value)\u001b[0m\n\u001b[0;32m    974\u001b[0m                 \u001b[0mby\u001b[0m \u001b[1;33m=\u001b[0m \u001b[0mBy\u001b[0m\u001b[1;33m.\u001b[0m\u001b[0mCSS_SELECTOR\u001b[0m\u001b[1;33m\u001b[0m\u001b[1;33m\u001b[0m\u001b[0m\n\u001b[0;32m    975\u001b[0m                 \u001b[0mvalue\u001b[0m \u001b[1;33m=\u001b[0m \u001b[1;34m'[name=\"%s\"]'\u001b[0m \u001b[1;33m%\u001b[0m \u001b[0mvalue\u001b[0m\u001b[1;33m\u001b[0m\u001b[1;33m\u001b[0m\u001b[0m\n\u001b[1;32m--> 976\u001b[1;33m         return self.execute(Command.FIND_ELEMENT, {\n\u001b[0m\u001b[0;32m    977\u001b[0m             \u001b[1;34m'using'\u001b[0m\u001b[1;33m:\u001b[0m \u001b[0mby\u001b[0m\u001b[1;33m,\u001b[0m\u001b[1;33m\u001b[0m\u001b[1;33m\u001b[0m\u001b[0m\n\u001b[0;32m    978\u001b[0m             'value': value})['value']\n",
      "\u001b[1;32m~\\AppData\\Roaming\\Python\\Python39\\site-packages\\selenium\\webdriver\\remote\\webdriver.py\u001b[0m in \u001b[0;36mexecute\u001b[1;34m(self, driver_command, params)\u001b[0m\n\u001b[0;32m    319\u001b[0m         \u001b[0mresponse\u001b[0m \u001b[1;33m=\u001b[0m \u001b[0mself\u001b[0m\u001b[1;33m.\u001b[0m\u001b[0mcommand_executor\u001b[0m\u001b[1;33m.\u001b[0m\u001b[0mexecute\u001b[0m\u001b[1;33m(\u001b[0m\u001b[0mdriver_command\u001b[0m\u001b[1;33m,\u001b[0m \u001b[0mparams\u001b[0m\u001b[1;33m)\u001b[0m\u001b[1;33m\u001b[0m\u001b[1;33m\u001b[0m\u001b[0m\n\u001b[0;32m    320\u001b[0m         \u001b[1;32mif\u001b[0m \u001b[0mresponse\u001b[0m\u001b[1;33m:\u001b[0m\u001b[1;33m\u001b[0m\u001b[1;33m\u001b[0m\u001b[0m\n\u001b[1;32m--> 321\u001b[1;33m             \u001b[0mself\u001b[0m\u001b[1;33m.\u001b[0m\u001b[0merror_handler\u001b[0m\u001b[1;33m.\u001b[0m\u001b[0mcheck_response\u001b[0m\u001b[1;33m(\u001b[0m\u001b[0mresponse\u001b[0m\u001b[1;33m)\u001b[0m\u001b[1;33m\u001b[0m\u001b[1;33m\u001b[0m\u001b[0m\n\u001b[0m\u001b[0;32m    322\u001b[0m             response['value'] = self._unwrap_value(\n\u001b[0;32m    323\u001b[0m                 response.get('value', None))\n",
      "\u001b[1;32m~\\AppData\\Roaming\\Python\\Python39\\site-packages\\selenium\\webdriver\\remote\\errorhandler.py\u001b[0m in \u001b[0;36mcheck_response\u001b[1;34m(self, response)\u001b[0m\n\u001b[0;32m    240\u001b[0m                 \u001b[0malert_text\u001b[0m \u001b[1;33m=\u001b[0m \u001b[0mvalue\u001b[0m\u001b[1;33m[\u001b[0m\u001b[1;34m'alert'\u001b[0m\u001b[1;33m]\u001b[0m\u001b[1;33m.\u001b[0m\u001b[0mget\u001b[0m\u001b[1;33m(\u001b[0m\u001b[1;34m'text'\u001b[0m\u001b[1;33m)\u001b[0m\u001b[1;33m\u001b[0m\u001b[1;33m\u001b[0m\u001b[0m\n\u001b[0;32m    241\u001b[0m             \u001b[1;32mraise\u001b[0m \u001b[0mexception_class\u001b[0m\u001b[1;33m(\u001b[0m\u001b[0mmessage\u001b[0m\u001b[1;33m,\u001b[0m \u001b[0mscreen\u001b[0m\u001b[1;33m,\u001b[0m \u001b[0mstacktrace\u001b[0m\u001b[1;33m,\u001b[0m \u001b[0malert_text\u001b[0m\u001b[1;33m)\u001b[0m\u001b[1;33m\u001b[0m\u001b[1;33m\u001b[0m\u001b[0m\n\u001b[1;32m--> 242\u001b[1;33m         \u001b[1;32mraise\u001b[0m \u001b[0mexception_class\u001b[0m\u001b[1;33m(\u001b[0m\u001b[0mmessage\u001b[0m\u001b[1;33m,\u001b[0m \u001b[0mscreen\u001b[0m\u001b[1;33m,\u001b[0m \u001b[0mstacktrace\u001b[0m\u001b[1;33m)\u001b[0m\u001b[1;33m\u001b[0m\u001b[1;33m\u001b[0m\u001b[0m\n\u001b[0m\u001b[0;32m    243\u001b[0m \u001b[1;33m\u001b[0m\u001b[0m\n\u001b[0;32m    244\u001b[0m     \u001b[1;32mdef\u001b[0m \u001b[0m_value_or_default\u001b[0m\u001b[1;33m(\u001b[0m\u001b[0mself\u001b[0m\u001b[1;33m,\u001b[0m \u001b[0mobj\u001b[0m\u001b[1;33m,\u001b[0m \u001b[0mkey\u001b[0m\u001b[1;33m,\u001b[0m \u001b[0mdefault\u001b[0m\u001b[1;33m)\u001b[0m\u001b[1;33m:\u001b[0m\u001b[1;33m\u001b[0m\u001b[1;33m\u001b[0m\u001b[0m\n",
      "\u001b[1;31mNoSuchElementException\u001b[0m: Message: no such element: Unable to locate element: {\"method\":\"css selector\",\"selector\":\"[name=\"applicant.fileUpload\"]\"}\n  (Session info: chrome=89.0.4389.90)\n"
     ]
    }
   ],
   "source": [
    "# iterarte all links to apply\n",
    "try:\n",
    "    for link in allLinks:\n",
    "        url = \"https://www.glassdoor.de\"+link\n",
    "        print(\"applying for the current jobpage: \", url)\n",
    "        print()\n",
    "        driver.get(url)\n",
    "        # bypass popup if applying on main page\n",
    "        try:\n",
    "            driver.find_element_by_xpath('//*[@id=\"JAModal\"]/div/div[2]/span/svg').click()\n",
    "        except NoSuchElementException:\n",
    "            pass \n",
    "        # if redirecting to the jobpage \n",
    "        driver.find_element_by_xpath('//*[@id=\"JobView\"]/div[1]/div[2]/div/div/div[2]/div/div[2]/div/div[1]/div[1]/span/button').click() # click schnellbewerbung\n",
    "        try:\n",
    "            driver.find_element_by_xpath('//*[@id=\"close-popup\"]/text()').click() #close popup if already apllied for job\n",
    "        except NoSuchElementException:\n",
    "            pass\n",
    "        driver.switch_to.frame(driver.find_element_by_xpath(\"//iframe[@title='Job application form container']\")) #switch to integrated frame 1\n",
    "        driver.switch_to.frame(driver.find_element_by_xpath(\"//iframe[@title='Job application form']\")) #switch to second iframe\n",
    "        # trying differents forms\n",
    "        try:\n",
    "            driver.find_element_by_xpath('//*[@id=\"input-applicant.name\"]').send_keys(JOB_APP['fullname'])\n",
    "            driver.find_element_by_xpath('//*[@id=\"input-applicant.email\"]').send_keys(JOB_APP['email'])\n",
    "            driver.find_element_by_xpath('//*[@id=\"input-applicant.phoneNumber\"]').send_keys(JOB_APP['phone'])\n",
    "            driver.find_element_by_xpath('//*[@id=\"input-applicant.location.city\"]').send_keys(JOB_APP['city'])\n",
    "            driver.find_element_by_xpath('//*[@id=\"input-applicant.jobTitle\"]').send_keys(JOB_APP['title'])\n",
    "            driver.find_element_by_xpath('//*[@id=\"input-applicant.companyName\"]').send_keys(JOB_APP['company'])\n",
    "        except NoSuchElementException:\n",
    "            pass\n",
    "        finally: \n",
    "            driver.find_element_by_name('applicant.fileUpload').send_keys(JOB_APP['resume'])\n",
    "\n",
    "except ElementNotVisibleException:\n",
    "    driver.close()\n",
    "    pass"
   ]
  }
 ]
}